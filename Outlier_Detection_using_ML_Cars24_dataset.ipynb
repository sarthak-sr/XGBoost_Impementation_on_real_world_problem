{
  "nbformat": 4,
  "nbformat_minor": 0,
  "metadata": {
    "colab": {
      "provenance": []
    },
    "kernelspec": {
      "name": "python3",
      "display_name": "Python 3"
    },
    "language_info": {
      "name": "python"
    }
  },
  "cells": [
    {
      "cell_type": "markdown",
      "source": [
        "## Objective\n",
        "\n",
        "- Build a ML model for the prediction of engine rating.\n",
        "- Use the same model to detect outliers.\n",
        "\n",
        "Steps to be follwed throughout:\n",
        "\n",
        "Clean and Analyse Data >> Impute, Endcode and Scale values >> Train the model >> Hyperparameter optimization >> Get the best estimator by comparing evaluation criteria."
      ],
      "metadata": {
        "id": "qZpmJWXvGOdP"
      }
    },
    {
      "cell_type": "markdown",
      "source": [
        "## Loading data into memory & Installing required libraries."
      ],
      "metadata": {
        "id": "S2Bf8_iAYxp-"
      }
    },
    {
      "cell_type": "code",
      "execution_count": null,
      "metadata": {
        "id": "GrqBbhTtkc9k"
      },
      "outputs": [],
      "source": [
        "# Installing Required Libraries\n",
        "import pandas as pd\n",
        "import numpy as np\n",
        "from sklearn.preprocessing import OneHotEncoder\n",
        "from sklearn.compose import make_column_transformer\n",
        "from sklearn.preprocessing import StandardScaler\n",
        "from sklearn.pipeline import Pipeline\n",
        "from sklearn.model_selection import train_test_split\n",
        "!pip install xgboost -q\n",
        "import xgboost as xgb\n",
        "from sklearn.metrics import mean_squared_error, mean_absolute_error\n",
        "from sklearn.model_selection import GridSearchCV\n",
        "import seaborn as sns\n",
        "import matplotlib.pyplot as plt\n",
        "import joblib"
      ]
    },
    {
      "cell_type": "markdown",
      "source": [
        "Kindly upoad the data file from the files section, make sure to have set the correct path and file name."
      ],
      "metadata": {
        "id": "GDbLRKOSihNH"
      }
    },
    {
      "cell_type": "code",
      "source": [
        "df = pd.read_csv('/content/Leverage Edu __ Data Scientist - Assignment Data - data.csv', low_memory=False)"
      ],
      "metadata": {
        "id": "V1bvnsUhlAvH"
      },
      "execution_count": null,
      "outputs": []
    },
    {
      "cell_type": "code",
      "source": [],
      "metadata": {
        "id": "u40PIMwp_aSe"
      },
      "execution_count": null,
      "outputs": []
    },
    {
      "cell_type": "markdown",
      "source": [
        "## EDA of Variables\n",
        "Open Ended Exploratory Data Analysis of different features."
      ],
      "metadata": {
        "id": "3uhcsFNfa1TU"
      }
    },
    {
      "cell_type": "code",
      "source": [
        "df.shape"
      ],
      "metadata": {
        "colab": {
          "base_uri": "https://localhost:8080/"
        },
        "id": "OyMOGy499FhM",
        "outputId": "3148c89b-0219-4196-8ff1-667bb3dd6fd7"
      },
      "execution_count": null,
      "outputs": [
        {
          "output_type": "execute_result",
          "data": {
            "text/plain": [
              "(26307, 73)"
            ]
          },
          "metadata": {},
          "execution_count": 3
        }
      ]
    },
    {
      "cell_type": "markdown",
      "source": [
        "The data has a total of 26,307 rows along with 73 columns."
      ],
      "metadata": {
        "id": "Q4-xcFyT9I0v"
      }
    },
    {
      "cell_type": "code",
      "source": [
        "print(\"The number of categorical columns are:\")\n",
        "print(len(df.select_dtypes(include=['object']).columns.tolist()))\n",
        "print(\"The number of numerical columns are:\")\n",
        "print(len(df.select_dtypes(include=['int64','float64']).columns.tolist()))"
      ],
      "metadata": {
        "colab": {
          "base_uri": "https://localhost:8080/"
        },
        "id": "lTtKafsu9P5d",
        "outputId": "282d3520-8ef5-4494-ba09-364d3d78408c"
      },
      "execution_count": null,
      "outputs": [
        {
          "output_type": "stream",
          "name": "stdout",
          "text": [
            "The number of categorical columns are:\n",
            "67\n",
            "The number of numerical columns are:\n",
            "6\n"
          ]
        }
      ]
    },
    {
      "cell_type": "markdown",
      "source": [
        "The percentage of 'Null values' across the columns are as under."
      ],
      "metadata": {
        "id": "_54Y8DKb-x80"
      }
    },
    {
      "cell_type": "code",
      "source": [
        "pd.set_option('display.max_rows', 75)\n",
        "\n",
        "print((df.isnull().sum() * 100 / df.shape[0]).sort_values(ascending=False))"
      ],
      "metadata": {
        "colab": {
          "base_uri": "https://localhost:8080/"
        },
        "id": "zbc0zeVa9Hcn",
        "outputId": "f3306231-3a8b-4cbe-99d7-9d2cae38e0c3"
      },
      "execution_count": null,
      "outputs": [
        {
          "output_type": "stream",
          "name": "stdout",
          "text": [
            "engineTransmission_engineOil_cc_value_9                      100.000000\n",
            "engineTransmission_engine_cc_value_10                        100.000000\n",
            "engineTransmission_clutch_cc_value_6                          99.996199\n",
            "engineTransmission_engineOil_cc_value_8                       99.992397\n",
            "engineTransmission_engine_cc_value_9                          99.988596\n",
            "engineTransmission_battery_cc_value_4                         99.984795\n",
            "engineTransmission_engine_cc_value_8                          99.984795\n",
            "engineTransmission_clutch_cc_value_5                          99.973391\n",
            "engineTransmission_coolant_cc_value_3                         99.969590\n",
            "engineTransmission_engine_cc_value_7                          99.969590\n",
            "engineTransmission_engineOil_cc_value_7                       99.958186\n",
            "engineTransmission_comments_value_4                           99.946782\n",
            "engineTransmission_battery_cc_value_3                         99.939180\n",
            "engineTransmission_engine_cc_value_6                          99.859353\n",
            "engineTransmission_clutch_cc_value_4                          99.836545\n",
            "engineTransmission_comments_value_3                           99.775725\n",
            "engineTransmission_gearShifting_cc_value_2                    99.749116\n",
            "engineTransmission_battery_cc_value_2                         99.726309\n",
            "engineTransmission_engine_cc_value_5                          99.650283\n",
            "engineTransmission_engineOil_cc_value_6                       99.540046\n",
            "engineTransmission_clutch_cc_value_3                          99.395598\n",
            "engineTransmission_engineSound_cc_value_5                     99.300566\n",
            "engineTransmission_coolant_cc_value_2                         99.106702\n",
            "engineTransmission_engine_cc_value_4                          98.874824\n",
            "engineTransmission_comments_value_2                           98.517505\n",
            "engineTransmission_engineOilLevelDipstick_cc_value_0          98.437678\n",
            "engineTransmission_battery_cc_value_1                         98.365454\n",
            "engineTransmission_engineOil_cc_value_5                       97.685027\n",
            "engineTransmission_engineSound_cc_value_4                     97.236477\n",
            "engineTransmission_gearShifting_cc_value_1                    97.069221\n",
            "engineTransmission_clutch_cc_value_2                          96.970388\n",
            "engineTransmission_engine_cc_value_3                          96.563652\n",
            "engineTransmission_comments_value_1                           95.027939\n",
            "engineTransmission_engineOil_cc_value_4                       93.264150\n",
            "engineTransmission_engineSound_cc_value_3                     91.819668\n",
            "engineTransmission_coolant_cc_value_1                         91.017600\n",
            "engineTransmission_engine_cc_value_2                          90.975786\n",
            "engineTransmission_battery_cc_value_0                         86.931235\n",
            "engineTransmission_gearShifting_cc_value_0                    86.832402\n",
            "engineTransmission_engineOil_cc_value_3                       85.775649\n",
            "engineTransmission_comments_value_0                           84.544038\n",
            "engineTransmission_clutch_cc_value_1                          83.639336\n",
            "engineTransmission_engine_cc_value_1                          80.674345\n",
            "engineTransmission_exhaustSmoke_cc_value_0                    78.880146\n",
            "engineTransmission_engineSound_cc_value_2                     76.918691\n",
            "engineTransmission_engineOil_cc_value_2                       74.938229\n",
            "engineTransmission_engine_cc_value_0                          65.522485\n",
            "engineTransmission_engineMounting_cc_value_0                  64.697609\n",
            "engineTransmission_coolant_cc_value_0                         61.850458\n",
            "engineTransmission_engineOil_cc_value_1                       58.170829\n",
            "engineTransmission_clutch_cc_value_0                          55.281864\n",
            "engineTransmission_engineSound_cc_value_1                     48.663854\n",
            "engineTransmission_engineOil_cc_value_0                       29.459840\n",
            "engineTransmission_engineSound_cc_value_0                     27.471776\n",
            "engineTransmission_gearShifting_value                          0.000000\n",
            "fuel_type                                                      0.000000\n",
            "odometer_reading                                               0.000000\n",
            "appointmentId                                                  0.000000\n",
            "engineTransmission_clutch_value                                0.000000\n",
            "engineTransmission_engineBlowByBackCompression_cc_value_0      0.000000\n",
            "engineTransmission_engineBlowByBackCompression_value           0.000000\n",
            "engineTransmission_exhaustSmoke_value                          0.000000\n",
            "engineTransmission_engineSound_value                           0.000000\n",
            "engineTransmission_engineMounting_value                        0.000000\n",
            "inspectionStartTime                                            0.000000\n",
            "engineTransmission_coolant_value                               0.000000\n",
            "engineTransmission_engine_value                                0.000000\n",
            "engineTransmission_engineOil                                   0.000000\n",
            "engineTransmission_engineoilLevelDipstick_value                0.000000\n",
            "engineTransmission_battery_value                               0.000000\n",
            "month                                                          0.000000\n",
            "year                                                           0.000000\n",
            "rating_engineTransmission                                      0.000000\n",
            "dtype: float64\n"
          ]
        }
      ]
    },
    {
      "cell_type": "markdown",
      "source": [
        "Out of 73 only 18 columns have no null values rest all have mostly null values.\n"
      ],
      "metadata": {
        "id": "Ubfwavvb_MPj"
      }
    },
    {
      "cell_type": "markdown",
      "source": [
        "Let analyse the co-relation between numerical columns, out of 6 numerical columns, 2 are completely empty namely: 'engineTransmission_engineOil_cc_value_9' and 'engineTransmission_engine_cc_value_10'."
      ],
      "metadata": {
        "id": "kQUHYUcSAc6j"
      }
    },
    {
      "cell_type": "code",
      "source": [
        "df.corr()"
      ],
      "metadata": {
        "colab": {
          "base_uri": "https://localhost:8080/",
          "height": 272
        },
        "id": "ehdtofRoFMOf",
        "outputId": "1299b011-da10-4464-f17f-6fa3d0217787"
      },
      "execution_count": null,
      "outputs": [
        {
          "output_type": "stream",
          "name": "stderr",
          "text": [
            "<ipython-input-6-2f6f6606aa2c>:1: FutureWarning: The default value of numeric_only in DataFrame.corr is deprecated. In a future version, it will default to False. Select only valid columns or specify the value of numeric_only to silence this warning.\n",
            "  df.corr()\n"
          ]
        },
        {
          "output_type": "execute_result",
          "data": {
            "text/plain": [
              "                                             year     month  \\\n",
              "year                                     1.000000  0.006427   \n",
              "month                                    0.006427  1.000000   \n",
              "engineTransmission_engineOil_cc_value_9       NaN       NaN   \n",
              "engineTransmission_engine_cc_value_10         NaN       NaN   \n",
              "odometer_reading                        -0.408025 -0.010909   \n",
              "rating_engineTransmission                0.586554  0.113765   \n",
              "\n",
              "                                         engineTransmission_engineOil_cc_value_9  \\\n",
              "year                                                                         NaN   \n",
              "month                                                                        NaN   \n",
              "engineTransmission_engineOil_cc_value_9                                      NaN   \n",
              "engineTransmission_engine_cc_value_10                                        NaN   \n",
              "odometer_reading                                                             NaN   \n",
              "rating_engineTransmission                                                    NaN   \n",
              "\n",
              "                                         engineTransmission_engine_cc_value_10  \\\n",
              "year                                                                       NaN   \n",
              "month                                                                      NaN   \n",
              "engineTransmission_engineOil_cc_value_9                                    NaN   \n",
              "engineTransmission_engine_cc_value_10                                      NaN   \n",
              "odometer_reading                                                           NaN   \n",
              "rating_engineTransmission                                                  NaN   \n",
              "\n",
              "                                         odometer_reading  \\\n",
              "year                                            -0.408025   \n",
              "month                                           -0.010909   \n",
              "engineTransmission_engineOil_cc_value_9               NaN   \n",
              "engineTransmission_engine_cc_value_10                 NaN   \n",
              "odometer_reading                                 1.000000   \n",
              "rating_engineTransmission                       -0.363312   \n",
              "\n",
              "                                         rating_engineTransmission  \n",
              "year                                                      0.586554  \n",
              "month                                                     0.113765  \n",
              "engineTransmission_engineOil_cc_value_9                        NaN  \n",
              "engineTransmission_engine_cc_value_10                          NaN  \n",
              "odometer_reading                                         -0.363312  \n",
              "rating_engineTransmission                                 1.000000  "
            ],
            "text/html": [
              "\n",
              "  <div id=\"df-3d65044b-daa0-4fb8-9d2b-911c8cef3dd5\" class=\"colab-df-container\">\n",
              "    <div>\n",
              "<style scoped>\n",
              "    .dataframe tbody tr th:only-of-type {\n",
              "        vertical-align: middle;\n",
              "    }\n",
              "\n",
              "    .dataframe tbody tr th {\n",
              "        vertical-align: top;\n",
              "    }\n",
              "\n",
              "    .dataframe thead th {\n",
              "        text-align: right;\n",
              "    }\n",
              "</style>\n",
              "<table border=\"1\" class=\"dataframe\">\n",
              "  <thead>\n",
              "    <tr style=\"text-align: right;\">\n",
              "      <th></th>\n",
              "      <th>year</th>\n",
              "      <th>month</th>\n",
              "      <th>engineTransmission_engineOil_cc_value_9</th>\n",
              "      <th>engineTransmission_engine_cc_value_10</th>\n",
              "      <th>odometer_reading</th>\n",
              "      <th>rating_engineTransmission</th>\n",
              "    </tr>\n",
              "  </thead>\n",
              "  <tbody>\n",
              "    <tr>\n",
              "      <th>year</th>\n",
              "      <td>1.000000</td>\n",
              "      <td>0.006427</td>\n",
              "      <td>NaN</td>\n",
              "      <td>NaN</td>\n",
              "      <td>-0.408025</td>\n",
              "      <td>0.586554</td>\n",
              "    </tr>\n",
              "    <tr>\n",
              "      <th>month</th>\n",
              "      <td>0.006427</td>\n",
              "      <td>1.000000</td>\n",
              "      <td>NaN</td>\n",
              "      <td>NaN</td>\n",
              "      <td>-0.010909</td>\n",
              "      <td>0.113765</td>\n",
              "    </tr>\n",
              "    <tr>\n",
              "      <th>engineTransmission_engineOil_cc_value_9</th>\n",
              "      <td>NaN</td>\n",
              "      <td>NaN</td>\n",
              "      <td>NaN</td>\n",
              "      <td>NaN</td>\n",
              "      <td>NaN</td>\n",
              "      <td>NaN</td>\n",
              "    </tr>\n",
              "    <tr>\n",
              "      <th>engineTransmission_engine_cc_value_10</th>\n",
              "      <td>NaN</td>\n",
              "      <td>NaN</td>\n",
              "      <td>NaN</td>\n",
              "      <td>NaN</td>\n",
              "      <td>NaN</td>\n",
              "      <td>NaN</td>\n",
              "    </tr>\n",
              "    <tr>\n",
              "      <th>odometer_reading</th>\n",
              "      <td>-0.408025</td>\n",
              "      <td>-0.010909</td>\n",
              "      <td>NaN</td>\n",
              "      <td>NaN</td>\n",
              "      <td>1.000000</td>\n",
              "      <td>-0.363312</td>\n",
              "    </tr>\n",
              "    <tr>\n",
              "      <th>rating_engineTransmission</th>\n",
              "      <td>0.586554</td>\n",
              "      <td>0.113765</td>\n",
              "      <td>NaN</td>\n",
              "      <td>NaN</td>\n",
              "      <td>-0.363312</td>\n",
              "      <td>1.000000</td>\n",
              "    </tr>\n",
              "  </tbody>\n",
              "</table>\n",
              "</div>\n",
              "    <div class=\"colab-df-buttons\">\n",
              "\n",
              "  <div class=\"colab-df-container\">\n",
              "    <button class=\"colab-df-convert\" onclick=\"convertToInteractive('df-3d65044b-daa0-4fb8-9d2b-911c8cef3dd5')\"\n",
              "            title=\"Convert this dataframe to an interactive table.\"\n",
              "            style=\"display:none;\">\n",
              "\n",
              "  <svg xmlns=\"http://www.w3.org/2000/svg\" height=\"24px\" viewBox=\"0 -960 960 960\">\n",
              "    <path d=\"M120-120v-720h720v720H120Zm60-500h600v-160H180v160Zm220 220h160v-160H400v160Zm0 220h160v-160H400v160ZM180-400h160v-160H180v160Zm440 0h160v-160H620v160ZM180-180h160v-160H180v160Zm440 0h160v-160H620v160Z\"/>\n",
              "  </svg>\n",
              "    </button>\n",
              "\n",
              "  <style>\n",
              "    .colab-df-container {\n",
              "      display:flex;\n",
              "      gap: 12px;\n",
              "    }\n",
              "\n",
              "    .colab-df-convert {\n",
              "      background-color: #E8F0FE;\n",
              "      border: none;\n",
              "      border-radius: 50%;\n",
              "      cursor: pointer;\n",
              "      display: none;\n",
              "      fill: #1967D2;\n",
              "      height: 32px;\n",
              "      padding: 0 0 0 0;\n",
              "      width: 32px;\n",
              "    }\n",
              "\n",
              "    .colab-df-convert:hover {\n",
              "      background-color: #E2EBFA;\n",
              "      box-shadow: 0px 1px 2px rgba(60, 64, 67, 0.3), 0px 1px 3px 1px rgba(60, 64, 67, 0.15);\n",
              "      fill: #174EA6;\n",
              "    }\n",
              "\n",
              "    .colab-df-buttons div {\n",
              "      margin-bottom: 4px;\n",
              "    }\n",
              "\n",
              "    [theme=dark] .colab-df-convert {\n",
              "      background-color: #3B4455;\n",
              "      fill: #D2E3FC;\n",
              "    }\n",
              "\n",
              "    [theme=dark] .colab-df-convert:hover {\n",
              "      background-color: #434B5C;\n",
              "      box-shadow: 0px 1px 3px 1px rgba(0, 0, 0, 0.15);\n",
              "      filter: drop-shadow(0px 1px 2px rgba(0, 0, 0, 0.3));\n",
              "      fill: #FFFFFF;\n",
              "    }\n",
              "  </style>\n",
              "\n",
              "    <script>\n",
              "      const buttonEl =\n",
              "        document.querySelector('#df-3d65044b-daa0-4fb8-9d2b-911c8cef3dd5 button.colab-df-convert');\n",
              "      buttonEl.style.display =\n",
              "        google.colab.kernel.accessAllowed ? 'block' : 'none';\n",
              "\n",
              "      async function convertToInteractive(key) {\n",
              "        const element = document.querySelector('#df-3d65044b-daa0-4fb8-9d2b-911c8cef3dd5');\n",
              "        const dataTable =\n",
              "          await google.colab.kernel.invokeFunction('convertToInteractive',\n",
              "                                                    [key], {});\n",
              "        if (!dataTable) return;\n",
              "\n",
              "        const docLinkHtml = 'Like what you see? Visit the ' +\n",
              "          '<a target=\"_blank\" href=https://colab.research.google.com/notebooks/data_table.ipynb>data table notebook</a>'\n",
              "          + ' to learn more about interactive tables.';\n",
              "        element.innerHTML = '';\n",
              "        dataTable['output_type'] = 'display_data';\n",
              "        await google.colab.output.renderOutput(dataTable, element);\n",
              "        const docLink = document.createElement('div');\n",
              "        docLink.innerHTML = docLinkHtml;\n",
              "        element.appendChild(docLink);\n",
              "      }\n",
              "    </script>\n",
              "  </div>\n",
              "\n",
              "\n",
              "<div id=\"df-ad7b4249-1926-4cef-a737-c4bbbd6c8d9e\">\n",
              "  <button class=\"colab-df-quickchart\" onclick=\"quickchart('df-ad7b4249-1926-4cef-a737-c4bbbd6c8d9e')\"\n",
              "            title=\"Suggest charts\"\n",
              "            style=\"display:none;\">\n",
              "\n",
              "<svg xmlns=\"http://www.w3.org/2000/svg\" height=\"24px\"viewBox=\"0 0 24 24\"\n",
              "     width=\"24px\">\n",
              "    <g>\n",
              "        <path d=\"M19 3H5c-1.1 0-2 .9-2 2v14c0 1.1.9 2 2 2h14c1.1 0 2-.9 2-2V5c0-1.1-.9-2-2-2zM9 17H7v-7h2v7zm4 0h-2V7h2v10zm4 0h-2v-4h2v4z\"/>\n",
              "    </g>\n",
              "</svg>\n",
              "  </button>\n",
              "\n",
              "<style>\n",
              "  .colab-df-quickchart {\n",
              "      --bg-color: #E8F0FE;\n",
              "      --fill-color: #1967D2;\n",
              "      --hover-bg-color: #E2EBFA;\n",
              "      --hover-fill-color: #174EA6;\n",
              "      --disabled-fill-color: #AAA;\n",
              "      --disabled-bg-color: #DDD;\n",
              "  }\n",
              "\n",
              "  [theme=dark] .colab-df-quickchart {\n",
              "      --bg-color: #3B4455;\n",
              "      --fill-color: #D2E3FC;\n",
              "      --hover-bg-color: #434B5C;\n",
              "      --hover-fill-color: #FFFFFF;\n",
              "      --disabled-bg-color: #3B4455;\n",
              "      --disabled-fill-color: #666;\n",
              "  }\n",
              "\n",
              "  .colab-df-quickchart {\n",
              "    background-color: var(--bg-color);\n",
              "    border: none;\n",
              "    border-radius: 50%;\n",
              "    cursor: pointer;\n",
              "    display: none;\n",
              "    fill: var(--fill-color);\n",
              "    height: 32px;\n",
              "    padding: 0;\n",
              "    width: 32px;\n",
              "  }\n",
              "\n",
              "  .colab-df-quickchart:hover {\n",
              "    background-color: var(--hover-bg-color);\n",
              "    box-shadow: 0 1px 2px rgba(60, 64, 67, 0.3), 0 1px 3px 1px rgba(60, 64, 67, 0.15);\n",
              "    fill: var(--button-hover-fill-color);\n",
              "  }\n",
              "\n",
              "  .colab-df-quickchart-complete:disabled,\n",
              "  .colab-df-quickchart-complete:disabled:hover {\n",
              "    background-color: var(--disabled-bg-color);\n",
              "    fill: var(--disabled-fill-color);\n",
              "    box-shadow: none;\n",
              "  }\n",
              "\n",
              "  .colab-df-spinner {\n",
              "    border: 2px solid var(--fill-color);\n",
              "    border-color: transparent;\n",
              "    border-bottom-color: var(--fill-color);\n",
              "    animation:\n",
              "      spin 1s steps(1) infinite;\n",
              "  }\n",
              "\n",
              "  @keyframes spin {\n",
              "    0% {\n",
              "      border-color: transparent;\n",
              "      border-bottom-color: var(--fill-color);\n",
              "      border-left-color: var(--fill-color);\n",
              "    }\n",
              "    20% {\n",
              "      border-color: transparent;\n",
              "      border-left-color: var(--fill-color);\n",
              "      border-top-color: var(--fill-color);\n",
              "    }\n",
              "    30% {\n",
              "      border-color: transparent;\n",
              "      border-left-color: var(--fill-color);\n",
              "      border-top-color: var(--fill-color);\n",
              "      border-right-color: var(--fill-color);\n",
              "    }\n",
              "    40% {\n",
              "      border-color: transparent;\n",
              "      border-right-color: var(--fill-color);\n",
              "      border-top-color: var(--fill-color);\n",
              "    }\n",
              "    60% {\n",
              "      border-color: transparent;\n",
              "      border-right-color: var(--fill-color);\n",
              "    }\n",
              "    80% {\n",
              "      border-color: transparent;\n",
              "      border-right-color: var(--fill-color);\n",
              "      border-bottom-color: var(--fill-color);\n",
              "    }\n",
              "    90% {\n",
              "      border-color: transparent;\n",
              "      border-bottom-color: var(--fill-color);\n",
              "    }\n",
              "  }\n",
              "</style>\n",
              "\n",
              "  <script>\n",
              "    async function quickchart(key) {\n",
              "      const quickchartButtonEl =\n",
              "        document.querySelector('#' + key + ' button');\n",
              "      quickchartButtonEl.disabled = true;  // To prevent multiple clicks.\n",
              "      quickchartButtonEl.classList.add('colab-df-spinner');\n",
              "      try {\n",
              "        const charts = await google.colab.kernel.invokeFunction(\n",
              "            'suggestCharts', [key], {});\n",
              "      } catch (error) {\n",
              "        console.error('Error during call to suggestCharts:', error);\n",
              "      }\n",
              "      quickchartButtonEl.classList.remove('colab-df-spinner');\n",
              "      quickchartButtonEl.classList.add('colab-df-quickchart-complete');\n",
              "    }\n",
              "    (() => {\n",
              "      let quickchartButtonEl =\n",
              "        document.querySelector('#df-ad7b4249-1926-4cef-a737-c4bbbd6c8d9e button');\n",
              "      quickchartButtonEl.style.display =\n",
              "        google.colab.kernel.accessAllowed ? 'block' : 'none';\n",
              "    })();\n",
              "  </script>\n",
              "</div>\n",
              "    </div>\n",
              "  </div>\n"
            ]
          },
          "metadata": {},
          "execution_count": 6
        }
      ]
    },
    {
      "cell_type": "code",
      "source": [
        "df.describe()"
      ],
      "metadata": {
        "colab": {
          "base_uri": "https://localhost:8080/",
          "height": 300
        },
        "id": "HRTgp8Zj_AIv",
        "outputId": "55915f05-d547-4602-fb51-406b0e45e84a"
      },
      "execution_count": null,
      "outputs": [
        {
          "output_type": "execute_result",
          "data": {
            "text/plain": [
              "               year         month  engineTransmission_engineOil_cc_value_9  \\\n",
              "count  26307.000000  26307.000000                                      0.0   \n",
              "mean    2010.856578      5.462006                                      NaN   \n",
              "std        3.766234      3.583866                                      NaN   \n",
              "min     1989.000000      1.000000                                      NaN   \n",
              "25%     2008.000000      2.000000                                      NaN   \n",
              "50%     2011.000000      5.000000                                      NaN   \n",
              "75%     2014.000000      9.000000                                      NaN   \n",
              "max     2019.000000     12.000000                                      NaN   \n",
              "\n",
              "       engineTransmission_engine_cc_value_10  odometer_reading  \\\n",
              "count                                    0.0      26307.000000   \n",
              "mean                                     NaN      76460.143764   \n",
              "std                                      NaN      46762.524489   \n",
              "min                                      NaN          1.000000   \n",
              "25%                                      NaN      46396.000000   \n",
              "50%                                      NaN      72013.000000   \n",
              "75%                                      NaN      98289.500000   \n",
              "max                                      NaN     999999.000000   \n",
              "\n",
              "       rating_engineTransmission  \n",
              "count               26307.000000  \n",
              "mean                    3.624663  \n",
              "std                     0.847645  \n",
              "min                     0.500000  \n",
              "25%                     3.500000  \n",
              "50%                     4.000000  \n",
              "75%                     4.000000  \n",
              "max                     5.000000  "
            ],
            "text/html": [
              "\n",
              "  <div id=\"df-c210995a-ee04-4c21-a1ca-791a9930b464\" class=\"colab-df-container\">\n",
              "    <div>\n",
              "<style scoped>\n",
              "    .dataframe tbody tr th:only-of-type {\n",
              "        vertical-align: middle;\n",
              "    }\n",
              "\n",
              "    .dataframe tbody tr th {\n",
              "        vertical-align: top;\n",
              "    }\n",
              "\n",
              "    .dataframe thead th {\n",
              "        text-align: right;\n",
              "    }\n",
              "</style>\n",
              "<table border=\"1\" class=\"dataframe\">\n",
              "  <thead>\n",
              "    <tr style=\"text-align: right;\">\n",
              "      <th></th>\n",
              "      <th>year</th>\n",
              "      <th>month</th>\n",
              "      <th>engineTransmission_engineOil_cc_value_9</th>\n",
              "      <th>engineTransmission_engine_cc_value_10</th>\n",
              "      <th>odometer_reading</th>\n",
              "      <th>rating_engineTransmission</th>\n",
              "    </tr>\n",
              "  </thead>\n",
              "  <tbody>\n",
              "    <tr>\n",
              "      <th>count</th>\n",
              "      <td>26307.000000</td>\n",
              "      <td>26307.000000</td>\n",
              "      <td>0.0</td>\n",
              "      <td>0.0</td>\n",
              "      <td>26307.000000</td>\n",
              "      <td>26307.000000</td>\n",
              "    </tr>\n",
              "    <tr>\n",
              "      <th>mean</th>\n",
              "      <td>2010.856578</td>\n",
              "      <td>5.462006</td>\n",
              "      <td>NaN</td>\n",
              "      <td>NaN</td>\n",
              "      <td>76460.143764</td>\n",
              "      <td>3.624663</td>\n",
              "    </tr>\n",
              "    <tr>\n",
              "      <th>std</th>\n",
              "      <td>3.766234</td>\n",
              "      <td>3.583866</td>\n",
              "      <td>NaN</td>\n",
              "      <td>NaN</td>\n",
              "      <td>46762.524489</td>\n",
              "      <td>0.847645</td>\n",
              "    </tr>\n",
              "    <tr>\n",
              "      <th>min</th>\n",
              "      <td>1989.000000</td>\n",
              "      <td>1.000000</td>\n",
              "      <td>NaN</td>\n",
              "      <td>NaN</td>\n",
              "      <td>1.000000</td>\n",
              "      <td>0.500000</td>\n",
              "    </tr>\n",
              "    <tr>\n",
              "      <th>25%</th>\n",
              "      <td>2008.000000</td>\n",
              "      <td>2.000000</td>\n",
              "      <td>NaN</td>\n",
              "      <td>NaN</td>\n",
              "      <td>46396.000000</td>\n",
              "      <td>3.500000</td>\n",
              "    </tr>\n",
              "    <tr>\n",
              "      <th>50%</th>\n",
              "      <td>2011.000000</td>\n",
              "      <td>5.000000</td>\n",
              "      <td>NaN</td>\n",
              "      <td>NaN</td>\n",
              "      <td>72013.000000</td>\n",
              "      <td>4.000000</td>\n",
              "    </tr>\n",
              "    <tr>\n",
              "      <th>75%</th>\n",
              "      <td>2014.000000</td>\n",
              "      <td>9.000000</td>\n",
              "      <td>NaN</td>\n",
              "      <td>NaN</td>\n",
              "      <td>98289.500000</td>\n",
              "      <td>4.000000</td>\n",
              "    </tr>\n",
              "    <tr>\n",
              "      <th>max</th>\n",
              "      <td>2019.000000</td>\n",
              "      <td>12.000000</td>\n",
              "      <td>NaN</td>\n",
              "      <td>NaN</td>\n",
              "      <td>999999.000000</td>\n",
              "      <td>5.000000</td>\n",
              "    </tr>\n",
              "  </tbody>\n",
              "</table>\n",
              "</div>\n",
              "    <div class=\"colab-df-buttons\">\n",
              "\n",
              "  <div class=\"colab-df-container\">\n",
              "    <button class=\"colab-df-convert\" onclick=\"convertToInteractive('df-c210995a-ee04-4c21-a1ca-791a9930b464')\"\n",
              "            title=\"Convert this dataframe to an interactive table.\"\n",
              "            style=\"display:none;\">\n",
              "\n",
              "  <svg xmlns=\"http://www.w3.org/2000/svg\" height=\"24px\" viewBox=\"0 -960 960 960\">\n",
              "    <path d=\"M120-120v-720h720v720H120Zm60-500h600v-160H180v160Zm220 220h160v-160H400v160Zm0 220h160v-160H400v160ZM180-400h160v-160H180v160Zm440 0h160v-160H620v160ZM180-180h160v-160H180v160Zm440 0h160v-160H620v160Z\"/>\n",
              "  </svg>\n",
              "    </button>\n",
              "\n",
              "  <style>\n",
              "    .colab-df-container {\n",
              "      display:flex;\n",
              "      gap: 12px;\n",
              "    }\n",
              "\n",
              "    .colab-df-convert {\n",
              "      background-color: #E8F0FE;\n",
              "      border: none;\n",
              "      border-radius: 50%;\n",
              "      cursor: pointer;\n",
              "      display: none;\n",
              "      fill: #1967D2;\n",
              "      height: 32px;\n",
              "      padding: 0 0 0 0;\n",
              "      width: 32px;\n",
              "    }\n",
              "\n",
              "    .colab-df-convert:hover {\n",
              "      background-color: #E2EBFA;\n",
              "      box-shadow: 0px 1px 2px rgba(60, 64, 67, 0.3), 0px 1px 3px 1px rgba(60, 64, 67, 0.15);\n",
              "      fill: #174EA6;\n",
              "    }\n",
              "\n",
              "    .colab-df-buttons div {\n",
              "      margin-bottom: 4px;\n",
              "    }\n",
              "\n",
              "    [theme=dark] .colab-df-convert {\n",
              "      background-color: #3B4455;\n",
              "      fill: #D2E3FC;\n",
              "    }\n",
              "\n",
              "    [theme=dark] .colab-df-convert:hover {\n",
              "      background-color: #434B5C;\n",
              "      box-shadow: 0px 1px 3px 1px rgba(0, 0, 0, 0.15);\n",
              "      filter: drop-shadow(0px 1px 2px rgba(0, 0, 0, 0.3));\n",
              "      fill: #FFFFFF;\n",
              "    }\n",
              "  </style>\n",
              "\n",
              "    <script>\n",
              "      const buttonEl =\n",
              "        document.querySelector('#df-c210995a-ee04-4c21-a1ca-791a9930b464 button.colab-df-convert');\n",
              "      buttonEl.style.display =\n",
              "        google.colab.kernel.accessAllowed ? 'block' : 'none';\n",
              "\n",
              "      async function convertToInteractive(key) {\n",
              "        const element = document.querySelector('#df-c210995a-ee04-4c21-a1ca-791a9930b464');\n",
              "        const dataTable =\n",
              "          await google.colab.kernel.invokeFunction('convertToInteractive',\n",
              "                                                    [key], {});\n",
              "        if (!dataTable) return;\n",
              "\n",
              "        const docLinkHtml = 'Like what you see? Visit the ' +\n",
              "          '<a target=\"_blank\" href=https://colab.research.google.com/notebooks/data_table.ipynb>data table notebook</a>'\n",
              "          + ' to learn more about interactive tables.';\n",
              "        element.innerHTML = '';\n",
              "        dataTable['output_type'] = 'display_data';\n",
              "        await google.colab.output.renderOutput(dataTable, element);\n",
              "        const docLink = document.createElement('div');\n",
              "        docLink.innerHTML = docLinkHtml;\n",
              "        element.appendChild(docLink);\n",
              "      }\n",
              "    </script>\n",
              "  </div>\n",
              "\n",
              "\n",
              "<div id=\"df-2994bb6f-12a2-461a-9c62-c345d8e40b3c\">\n",
              "  <button class=\"colab-df-quickchart\" onclick=\"quickchart('df-2994bb6f-12a2-461a-9c62-c345d8e40b3c')\"\n",
              "            title=\"Suggest charts\"\n",
              "            style=\"display:none;\">\n",
              "\n",
              "<svg xmlns=\"http://www.w3.org/2000/svg\" height=\"24px\"viewBox=\"0 0 24 24\"\n",
              "     width=\"24px\">\n",
              "    <g>\n",
              "        <path d=\"M19 3H5c-1.1 0-2 .9-2 2v14c0 1.1.9 2 2 2h14c1.1 0 2-.9 2-2V5c0-1.1-.9-2-2-2zM9 17H7v-7h2v7zm4 0h-2V7h2v10zm4 0h-2v-4h2v4z\"/>\n",
              "    </g>\n",
              "</svg>\n",
              "  </button>\n",
              "\n",
              "<style>\n",
              "  .colab-df-quickchart {\n",
              "      --bg-color: #E8F0FE;\n",
              "      --fill-color: #1967D2;\n",
              "      --hover-bg-color: #E2EBFA;\n",
              "      --hover-fill-color: #174EA6;\n",
              "      --disabled-fill-color: #AAA;\n",
              "      --disabled-bg-color: #DDD;\n",
              "  }\n",
              "\n",
              "  [theme=dark] .colab-df-quickchart {\n",
              "      --bg-color: #3B4455;\n",
              "      --fill-color: #D2E3FC;\n",
              "      --hover-bg-color: #434B5C;\n",
              "      --hover-fill-color: #FFFFFF;\n",
              "      --disabled-bg-color: #3B4455;\n",
              "      --disabled-fill-color: #666;\n",
              "  }\n",
              "\n",
              "  .colab-df-quickchart {\n",
              "    background-color: var(--bg-color);\n",
              "    border: none;\n",
              "    border-radius: 50%;\n",
              "    cursor: pointer;\n",
              "    display: none;\n",
              "    fill: var(--fill-color);\n",
              "    height: 32px;\n",
              "    padding: 0;\n",
              "    width: 32px;\n",
              "  }\n",
              "\n",
              "  .colab-df-quickchart:hover {\n",
              "    background-color: var(--hover-bg-color);\n",
              "    box-shadow: 0 1px 2px rgba(60, 64, 67, 0.3), 0 1px 3px 1px rgba(60, 64, 67, 0.15);\n",
              "    fill: var(--button-hover-fill-color);\n",
              "  }\n",
              "\n",
              "  .colab-df-quickchart-complete:disabled,\n",
              "  .colab-df-quickchart-complete:disabled:hover {\n",
              "    background-color: var(--disabled-bg-color);\n",
              "    fill: var(--disabled-fill-color);\n",
              "    box-shadow: none;\n",
              "  }\n",
              "\n",
              "  .colab-df-spinner {\n",
              "    border: 2px solid var(--fill-color);\n",
              "    border-color: transparent;\n",
              "    border-bottom-color: var(--fill-color);\n",
              "    animation:\n",
              "      spin 1s steps(1) infinite;\n",
              "  }\n",
              "\n",
              "  @keyframes spin {\n",
              "    0% {\n",
              "      border-color: transparent;\n",
              "      border-bottom-color: var(--fill-color);\n",
              "      border-left-color: var(--fill-color);\n",
              "    }\n",
              "    20% {\n",
              "      border-color: transparent;\n",
              "      border-left-color: var(--fill-color);\n",
              "      border-top-color: var(--fill-color);\n",
              "    }\n",
              "    30% {\n",
              "      border-color: transparent;\n",
              "      border-left-color: var(--fill-color);\n",
              "      border-top-color: var(--fill-color);\n",
              "      border-right-color: var(--fill-color);\n",
              "    }\n",
              "    40% {\n",
              "      border-color: transparent;\n",
              "      border-right-color: var(--fill-color);\n",
              "      border-top-color: var(--fill-color);\n",
              "    }\n",
              "    60% {\n",
              "      border-color: transparent;\n",
              "      border-right-color: var(--fill-color);\n",
              "    }\n",
              "    80% {\n",
              "      border-color: transparent;\n",
              "      border-right-color: var(--fill-color);\n",
              "      border-bottom-color: var(--fill-color);\n",
              "    }\n",
              "    90% {\n",
              "      border-color: transparent;\n",
              "      border-bottom-color: var(--fill-color);\n",
              "    }\n",
              "  }\n",
              "</style>\n",
              "\n",
              "  <script>\n",
              "    async function quickchart(key) {\n",
              "      const quickchartButtonEl =\n",
              "        document.querySelector('#' + key + ' button');\n",
              "      quickchartButtonEl.disabled = true;  // To prevent multiple clicks.\n",
              "      quickchartButtonEl.classList.add('colab-df-spinner');\n",
              "      try {\n",
              "        const charts = await google.colab.kernel.invokeFunction(\n",
              "            'suggestCharts', [key], {});\n",
              "      } catch (error) {\n",
              "        console.error('Error during call to suggestCharts:', error);\n",
              "      }\n",
              "      quickchartButtonEl.classList.remove('colab-df-spinner');\n",
              "      quickchartButtonEl.classList.add('colab-df-quickchart-complete');\n",
              "    }\n",
              "    (() => {\n",
              "      let quickchartButtonEl =\n",
              "        document.querySelector('#df-2994bb6f-12a2-461a-9c62-c345d8e40b3c button');\n",
              "      quickchartButtonEl.style.display =\n",
              "        google.colab.kernel.accessAllowed ? 'block' : 'none';\n",
              "    })();\n",
              "  </script>\n",
              "</div>\n",
              "    </div>\n",
              "  </div>\n"
            ]
          },
          "metadata": {},
          "execution_count": 7
        }
      ]
    },
    {
      "cell_type": "markdown",
      "source": [
        "- The data is for vehicles registered between the **year 1989** and the **year 2019.**\n",
        "\n",
        "- The average rating for the engine Transmission (target column) is **3.62**"
      ],
      "metadata": {
        "id": "ISfWgZVDB_Ly"
      }
    },
    {
      "cell_type": "code",
      "source": [
        "print(df['inspectionStartTime'].min())\n",
        "print(df['inspectionStartTime'].max())"
      ],
      "metadata": {
        "colab": {
          "base_uri": "https://localhost:8080/"
        },
        "id": "HZEj22JhEGMR",
        "outputId": "25ffdcfa-e81b-441e-eeee-f624018ee9ae"
      },
      "execution_count": null,
      "outputs": [
        {
          "output_type": "stream",
          "name": "stdout",
          "text": [
            "1/10/19 10:18\n",
            "4/9/19 9:46\n"
          ]
        }
      ]
    },
    {
      "cell_type": "markdown",
      "source": [
        "The data is from inspections from date: **10-Jan-2019 to 9-Apr-2019**"
      ],
      "metadata": {
        "id": "PfzNV8J1HRps"
      }
    },
    {
      "cell_type": "code",
      "source": [
        "df['odometer_reading'][0:10]"
      ],
      "metadata": {
        "colab": {
          "base_uri": "https://localhost:8080/"
        },
        "id": "5HzOWZypkOz9",
        "outputId": "ff3b2607-6bdf-4f2d-9f57-8e12a9bf334d"
      },
      "execution_count": null,
      "outputs": [
        {
          "output_type": "execute_result",
          "data": {
            "text/plain": [
              "0    124600\n",
              "1     78108\n",
              "2     93348\n",
              "3     48233\n",
              "4     74368\n",
              "5     91916\n",
              "6    121006\n",
              "7     41534\n",
              "8    152904\n",
              "9     92340\n",
              "Name: odometer_reading, dtype: int64"
            ]
          },
          "metadata": {},
          "execution_count": 13
        }
      ]
    },
    {
      "cell_type": "code",
      "source": [
        "plt.scatter(df['odometer_reading'], df['rating_engineTransmission'])\n",
        "plt.title('Odo Vs Rating')\n",
        "plt.xlabel('Odometer rating')\n",
        "plt.ylabel('Engine Rating')\n",
        "plt.show()"
      ],
      "metadata": {
        "colab": {
          "base_uri": "https://localhost:8080/",
          "height": 472
        },
        "id": "Xb6vI9M4Hqut",
        "outputId": "0270fb53-d734-42f9-f3f3-eb74847281bf"
      },
      "execution_count": null,
      "outputs": [
        {
          "output_type": "display_data",
          "data": {
            "text/plain": [
              "<Figure size 640x480 with 1 Axes>"
            ],
            "image/png": "[encoded data removed]"
          },
          "metadata": {}
        }
      ]
    },
    {
      "cell_type": "markdown",
      "source": [
        "The rating of **1.5** is significantly less and can be found in cars having odometer rating between 10,000 to 20,000*"
      ],
      "metadata": {
        "id": "jsHD3stjlafu"
      }
    },
    {
      "cell_type": "code",
      "source": [
        "df.year.value_counts().plot.bar()\n",
        "plt.title('Year of Registration Vs Count')\n",
        "plt.xlabel('Year')\n",
        "plt.ylabel('Count')\n",
        "plt.show()"
      ],
      "metadata": {
        "colab": {
          "base_uri": "https://localhost:8080/",
          "height": 493
        },
        "id": "4X2gAaj6nMAC",
        "outputId": "f3dc3095-4ff2-4a06-d338-2e09ea62a201"
      },
      "execution_count": null,
      "outputs": [
        {
          "output_type": "display_data",
          "data": {
            "text/plain": [
              "<Figure size 640x480 with 1 Axes>"
            ],
            "image/png": "[encoded data removed]"
          },
          "metadata": {}
        }
      ]
    },
    {
      "cell_type": "code",
      "source": [
        "df.month.value_counts().plot.bar()\n",
        "plt.title('Month of Registration Vs Count')\n",
        "plt.xlabel('Month')\n",
        "plt.ylabel('Count')\n",
        "plt.show()"
      ],
      "metadata": {
        "colab": {
          "base_uri": "https://localhost:8080/",
          "height": 475
        },
        "id": "eUm1OJKbpfc4",
        "outputId": "751a9150-7c4c-49e7-b5a4-8a042873f213"
      },
      "execution_count": null,
      "outputs": [
        {
          "output_type": "display_data",
          "data": {
            "text/plain": [
              "<Figure size 640x480 with 1 Axes>"
            ],
            "image/png": "[encoded data removed]"
          },
          "metadata": {}
        }
      ]
    },
    {
      "cell_type": "markdown",
      "source": [
        "Seems like January has the highest number of registrations."
      ],
      "metadata": {
        "id": "rEtPgqgAqdwQ"
      }
    },
    {
      "cell_type": "code",
      "source": [
        "sns.histplot(data=df, x='rating_engineTransmission', bins=10, kde=True)\n",
        "plt.show()"
      ],
      "metadata": {
        "colab": {
          "base_uri": "https://localhost:8080/",
          "height": 450
        },
        "id": "wAjiA5oSqhuv",
        "outputId": "6e890ac0-e8cd-4b46-d717-ad5a0e47c3ab"
      },
      "execution_count": null,
      "outputs": [
        {
          "output_type": "display_data",
          "data": {
            "text/plain": [
              "<Figure size 640x480 with 1 Axes>"
            ],
            "image/png": "[encoded data removed]"
          },
          "metadata": {}
        }
      ]
    },
    {
      "cell_type": "markdown",
      "source": [
        "The highest count of rating is roughly in between 3.5 to 4.1.\n"
      ],
      "metadata": {
        "id": "YNGttssTq0_y"
      }
    },
    {
      "cell_type": "markdown",
      "source": [
        "## Data Cleaning and Preparation for Model Trainig."
      ],
      "metadata": {
        "id": "fIbKWXryY8YG"
      }
    },
    {
      "cell_type": "code",
      "source": [
        "df.info()"
      ],
      "metadata": {
        "colab": {
          "base_uri": "https://localhost:8080/"
        },
        "id": "EkDP-S_oZAuV",
        "outputId": "3a2e34ee-4261-45e0-a7ab-9318291b1170"
      },
      "execution_count": null,
      "outputs": [
        {
          "output_type": "stream",
          "name": "stdout",
          "text": [
            "<class 'pandas.core.frame.DataFrame'>\n",
            "RangeIndex: 26307 entries, 0 to 26306\n",
            "Data columns (total 73 columns):\n",
            " #   Column                                                     Non-Null Count  Dtype  \n",
            "---  ------                                                     --------------  -----  \n",
            " 0   appointmentId                                              26307 non-null  object \n",
            " 1   inspectionStartTime                                        26307 non-null  object \n",
            " 2   year                                                       26307 non-null  int64  \n",
            " 3   month                                                      26307 non-null  int64  \n",
            " 4   engineTransmission_battery_value                           26307 non-null  object \n",
            " 5   engineTransmission_battery_cc_value_0                      3438 non-null   object \n",
            " 6   engineTransmission_battery_cc_value_1                      430 non-null    object \n",
            " 7   engineTransmission_battery_cc_value_2                      72 non-null     object \n",
            " 8   engineTransmission_battery_cc_value_3                      16 non-null     object \n",
            " 9   engineTransmission_battery_cc_value_4                      4 non-null      object \n",
            " 10  engineTransmission_engineoilLevelDipstick_value            26307 non-null  object \n",
            " 11  engineTransmission_engineOilLevelDipstick_cc_value_0       411 non-null    object \n",
            " 12  engineTransmission_engineOil                               26307 non-null  object \n",
            " 13  engineTransmission_engineOil_cc_value_0                    18557 non-null  object \n",
            " 14  engineTransmission_engineOil_cc_value_1                    11004 non-null  object \n",
            " 15  engineTransmission_engineOil_cc_value_2                    6593 non-null   object \n",
            " 16  engineTransmission_engineOil_cc_value_3                    3742 non-null   object \n",
            " 17  engineTransmission_engineOil_cc_value_4                    1772 non-null   object \n",
            " 18  engineTransmission_engineOil_cc_value_5                    609 non-null    object \n",
            " 19  engineTransmission_engineOil_cc_value_6                    121 non-null    object \n",
            " 20  engineTransmission_engineOil_cc_value_7                    11 non-null     object \n",
            " 21  engineTransmission_engineOil_cc_value_8                    2 non-null      object \n",
            " 22  engineTransmission_engineOil_cc_value_9                    0 non-null      float64\n",
            " 23  engineTransmission_engine_value                            26307 non-null  object \n",
            " 24  engineTransmission_engine_cc_value_0                       9070 non-null   object \n",
            " 25  engineTransmission_engine_cc_value_1                       5084 non-null   object \n",
            " 26  engineTransmission_engine_cc_value_2                       2374 non-null   object \n",
            " 27  engineTransmission_engine_cc_value_3                       904 non-null    object \n",
            " 28  engineTransmission_engine_cc_value_4                       296 non-null    object \n",
            " 29  engineTransmission_engine_cc_value_5                       92 non-null     object \n",
            " 30  engineTransmission_engine_cc_value_6                       37 non-null     object \n",
            " 31  engineTransmission_engine_cc_value_7                       8 non-null      object \n",
            " 32  engineTransmission_engine_cc_value_8                       4 non-null      object \n",
            " 33  engineTransmission_engine_cc_value_9                       3 non-null      object \n",
            " 34  engineTransmission_engine_cc_value_10                      0 non-null      float64\n",
            " 35  engineTransmission_coolant_value                           26307 non-null  object \n",
            " 36  engineTransmission_coolant_cc_value_0                      10036 non-null  object \n",
            " 37  engineTransmission_coolant_cc_value_1                      2363 non-null   object \n",
            " 38  engineTransmission_coolant_cc_value_2                      235 non-null    object \n",
            " 39  engineTransmission_coolant_cc_value_3                      8 non-null      object \n",
            " 40  engineTransmission_engineMounting_value                    26307 non-null  object \n",
            " 41  engineTransmission_engineMounting_cc_value_0               9287 non-null   object \n",
            " 42  engineTransmission_engineSound_value                       26307 non-null  object \n",
            " 43  engineTransmission_engineSound_cc_value_0                  19080 non-null  object \n",
            " 44  engineTransmission_engineSound_cc_value_1                  13505 non-null  object \n",
            " 45  engineTransmission_engineSound_cc_value_2                  6072 non-null   object \n",
            " 46  engineTransmission_engineSound_cc_value_3                  2152 non-null   object \n",
            " 47  engineTransmission_engineSound_cc_value_4                  727 non-null    object \n",
            " 48  engineTransmission_engineSound_cc_value_5                  184 non-null    object \n",
            " 49  engineTransmission_exhaustSmoke_value                      26307 non-null  object \n",
            " 50  engineTransmission_exhaustSmoke_cc_value_0                 5556 non-null   object \n",
            " 51  engineTransmission_engineBlowByBackCompression_value       26307 non-null  object \n",
            " 52  engineTransmission_engineBlowByBackCompression_cc_value_0  26307 non-null  object \n",
            " 53  engineTransmission_clutch_value                            26307 non-null  object \n",
            " 54  engineTransmission_clutch_cc_value_0                       11764 non-null  object \n",
            " 55  engineTransmission_clutch_cc_value_1                       4304 non-null   object \n",
            " 56  engineTransmission_clutch_cc_value_2                       797 non-null    object \n",
            " 57  engineTransmission_clutch_cc_value_3                       159 non-null    object \n",
            " 58  engineTransmission_clutch_cc_value_4                       43 non-null     object \n",
            " 59  engineTransmission_clutch_cc_value_5                       7 non-null      object \n",
            " 60  engineTransmission_clutch_cc_value_6                       1 non-null      object \n",
            " 61  engineTransmission_gearShifting_value                      26307 non-null  object \n",
            " 62  engineTransmission_gearShifting_cc_value_0                 3464 non-null   object \n",
            " 63  engineTransmission_gearShifting_cc_value_1                 771 non-null    object \n",
            " 64  engineTransmission_gearShifting_cc_value_2                 66 non-null     object \n",
            " 65  engineTransmission_comments_value_0                        4066 non-null   object \n",
            " 66  engineTransmission_comments_value_1                        1308 non-null   object \n",
            " 67  engineTransmission_comments_value_2                        390 non-null    object \n",
            " 68  engineTransmission_comments_value_3                        59 non-null     object \n",
            " 69  engineTransmission_comments_value_4                        14 non-null     object \n",
            " 70  fuel_type                                                  26307 non-null  object \n",
            " 71  odometer_reading                                           26307 non-null  int64  \n",
            " 72  rating_engineTransmission                                  26307 non-null  float64\n",
            "dtypes: float64(3), int64(3), object(67)\n",
            "memory usage: 14.7+ MB\n"
          ]
        }
      ]
    },
    {
      "cell_type": "markdown",
      "source": [
        "Mostly columns are cateforical, since rows >> columns, we would be dropping some columns which have very low number of entries(< 50)"
      ],
      "metadata": {
        "id": "k6jq597RZRmu"
      }
    },
    {
      "cell_type": "code",
      "source": [
        "df = df.drop(['engineTransmission_comments_value_4', 'engineTransmission_clutch_cc_value_6', 'engineTransmission_clutch_cc_value_5', 'engineTransmission_coolant_cc_value_3', 'engineTransmission_engine_cc_value_10', 'engineTransmission_engine_cc_value_9', 'engineTransmission_engine_cc_value_8', 'engineTransmission_engine_cc_value_7' , 'engineTransmission_engineOil_cc_value_9' , 'engineTransmission_engineOil_cc_value_8', 'engineTransmission_battery_cc_value_3', 'engineTransmission_battery_cc_value_4','appointmentId',\n",
        " 'inspectionStartTime'],axis=1)"
      ],
      "metadata": {
        "id": "A_s9C0kB7DXe"
      },
      "execution_count": null,
      "outputs": []
    },
    {
      "cell_type": "code",
      "source": [
        "categorical_columns = df.select_dtypes(include=['object']).columns.tolist()\n",
        "numerical_columns = df.select_dtypes(include=['int64','float64']).columns.tolist()"
      ],
      "metadata": {
        "id": "gFxRpRKdvOaV"
      },
      "execution_count": null,
      "outputs": []
    },
    {
      "cell_type": "code",
      "source": [
        "df[categorical_columns] = df[categorical_columns].fillna('Unkown')"
      ],
      "metadata": {
        "id": "MVGo1osNhdJk"
      },
      "execution_count": null,
      "outputs": []
    },
    {
      "cell_type": "code",
      "source": [
        "df.isnull().sum().value_counts()"
      ],
      "metadata": {
        "colab": {
          "base_uri": "https://localhost:8080/"
        },
        "id": "IEpU1emaaAEt",
        "outputId": "01f5c1e6-5384-40ab-9546-478fce9b2c17"
      },
      "execution_count": null,
      "outputs": [
        {
          "output_type": "execute_result",
          "data": {
            "text/plain": [
              "0    61\n",
              "dtype: int64"
            ]
          },
          "metadata": {},
          "execution_count": 46
        }
      ]
    },
    {
      "cell_type": "markdown",
      "source": [
        "Now there is no null value present in the data frame."
      ],
      "metadata": {
        "id": "J86zslgPavP8"
      }
    },
    {
      "cell_type": "code",
      "source": [
        "# Splitting the data into training and testing sets\n",
        "X_train, X_test, y_train, y_test = train_test_split(df.iloc[:,0:-1], df.iloc[:,-1], test_size=0.3, random_state=42)"
      ],
      "metadata": {
        "id": "QBtdFx_XbtGs"
      },
      "execution_count": null,
      "outputs": []
    },
    {
      "cell_type": "code",
      "source": [
        "#Scaling and encoding the train data\n",
        "\n",
        "transformer = make_column_transformer(\n",
        "    (StandardScaler(), ['odometer_reading']),\n",
        "    (OneHotEncoder(), categorical_columns), remainder='passthrough')\n",
        "\n",
        "X_train = transformer.fit_transform(X_train)"
      ],
      "metadata": {
        "id": "6mCuSPjXmopV"
      },
      "execution_count": null,
      "outputs": []
    },
    {
      "cell_type": "code",
      "source": [
        "#Scaling and encoding the test data\n",
        "\n",
        "transformer_t = make_column_transformer(\n",
        "    (StandardScaler(), ['odometer_reading']),\n",
        "    (OneHotEncoder(), categorical_columns), remainder='passthrough')\n",
        "\n",
        "X_test = transformer_t.fit_transform(X_test)"
      ],
      "metadata": {
        "id": "OtV6hQ_Pl5WT"
      },
      "execution_count": null,
      "outputs": []
    },
    {
      "cell_type": "code",
      "source": [
        "def fixing_extra_cols(X_train, X_test):\n",
        "\n",
        "  f_names = transformer.get_feature_names_out()\n",
        "  f_names_t = transformer_t.get_feature_names_out()\n",
        "  not_present = []\n",
        "  f_names_to_remove_train = []\n",
        "  f_names_to_remove_test = []\n",
        "  not_present_2 = []\n",
        "\n",
        "\n",
        "  for i,c in enumerate(f_names):\n",
        "    if c not in f_names_t:\n",
        "      not_present.append(i)\n",
        "      f_names_to_remove_train.append(c)\n",
        "\n",
        "\n",
        "  for i,c in enumerate(f_names_t):\n",
        "    if c not in f_names:\n",
        "      not_present_2.append(i)\n",
        "      f_names_to_remove_test.append(c)\n",
        "\n",
        "  revised_index = list(range(0, X_train.shape[1]))\n",
        "  revised_index_t = list(range(0, X_test.shape[1]))\n",
        "\n",
        "  for i in not_present:\n",
        "    revised_index.remove(i)\n",
        "\n",
        "  for i in not_present_2:\n",
        "    revised_index_t.remove(i)\n",
        "\n",
        "  X_train = X_train[:,revised_index]\n",
        "  X_test = X_test[:, revised_index_t]\n",
        "\n",
        "  f_names = np.setdiff1d(f_names, f_names_to_remove_train)\n",
        "  f_names_t = np.setdiff1d(f_names_t, f_names_to_remove_test)\n",
        "\n",
        "  print(\"Sucessfully removed the extra columns in the Train and Test set\")\n",
        "  print(\"Train data shape: {} , Test data shape {}\".format(X_train.shape, X_test.shape))\n",
        "\n",
        "  return X_train, X_test, f_names"
      ],
      "metadata": {
        "id": "uEjnj9hq6Da0"
      },
      "execution_count": null,
      "outputs": []
    },
    {
      "cell_type": "markdown",
      "source": [
        "## Model Building"
      ],
      "metadata": {
        "id": "clGVO3FGbKqG"
      }
    },
    {
      "cell_type": "code",
      "source": [
        "X_train, X_test, f_names = fixing_extra_cols(X_train, X_test)"
      ],
      "metadata": {
        "colab": {
          "base_uri": "https://localhost:8080/"
        },
        "id": "430dEcyM_MXJ",
        "outputId": "0a79b38d-d9d5-465e-f503-ee6ac5068f56"
      },
      "execution_count": null,
      "outputs": [
        {
          "output_type": "stream",
          "name": "stdout",
          "text": [
            "Sucessfully removed the extra columns in the Train and Test set\n",
            "Train data shape: (18414, 283) , Test data shape (7893, 283)\n"
          ]
        }
      ]
    },
    {
      "cell_type": "code",
      "source": [
        "xgbr = xgb.XGBRegressor()\n",
        "xgbr.fit(X_train, y_train)"
      ],
      "metadata": {
        "colab": {
          "base_uri": "https://localhost:8080/",
          "height": 248
        },
        "id": "99p-LgRwd-wB",
        "outputId": "9972dae4-ecea-4148-b91c-c13ea3baeca3"
      },
      "execution_count": null,
      "outputs": [
        {
          "output_type": "execute_result",
          "data": {
            "text/plain": [
              "XGBRegressor(base_score=None, booster=None, callbacks=None,\n",
              "             colsample_bylevel=None, colsample_bynode=None,\n",
              "             colsample_bytree=None, device=None, early_stopping_rounds=None,\n",
              "             enable_categorical=False, eval_metric=None, feature_types=None,\n",
              "             gamma=None, grow_policy=None, importance_type=None,\n",
              "             interaction_constraints=None, learning_rate=None, max_bin=None,\n",
              "             max_cat_threshold=None, max_cat_to_onehot=None,\n",
              "             max_delta_step=None, max_depth=None, max_leaves=None,\n",
              "             min_child_weight=None, missing=nan, monotone_constraints=None,\n",
              "             multi_strategy=None, n_estimators=None, n_jobs=None,\n",
              "             num_parallel_tree=None, random_state=None, ...)"
            ],
            "text/html": [
              "<style>#sk-container-id-1 {color: black;background-color: white;}#sk-container-id-1 pre{padding: 0;}#sk-container-id-1 div.sk-toggleable {background-color: white;}#sk-container-id-1 label.sk-toggleable__label {cursor: pointer;display: block;width: 100%;margin-bottom: 0;padding: 0.3em;box-sizing: border-box;text-align: center;}#sk-container-id-1 label.sk-toggleable__label-arrow:before {content: \"▸\";float: left;margin-right: 0.25em;color: #696969;}#sk-container-id-1 label.sk-toggleable__label-arrow:hover:before {color: black;}#sk-container-id-1 div.sk-estimator:hover label.sk-toggleable__label-arrow:before {color: black;}#sk-container-id-1 div.sk-toggleable__content {max-height: 0;max-width: 0;overflow: hidden;text-align: left;background-color: #f0f8ff;}#sk-container-id-1 div.sk-toggleable__content pre {margin: 0.2em;color: black;border-radius: 0.25em;background-color: #f0f8ff;}#sk-container-id-1 input.sk-toggleable__control:checked~div.sk-toggleable__content {max-height: 200px;max-width: 100%;overflow: auto;}#sk-container-id-1 input.sk-toggleable__control:checked~label.sk-toggleable__label-arrow:before {content: \"▾\";}#sk-container-id-1 div.sk-estimator input.sk-toggleable__control:checked~label.sk-toggleable__label {background-color: #d4ebff;}#sk-container-id-1 div.sk-label input.sk-toggleable__control:checked~label.sk-toggleable__label {background-color: #d4ebff;}#sk-container-id-1 input.sk-hidden--visually {border: 0;clip: rect(1px 1px 1px 1px);clip: rect(1px, 1px, 1px, 1px);height: 1px;margin: -1px;overflow: hidden;padding: 0;position: absolute;width: 1px;}#sk-container-id-1 div.sk-estimator {font-family: monospace;background-color: #f0f8ff;border: 1px dotted black;border-radius: 0.25em;box-sizing: border-box;margin-bottom: 0.5em;}#sk-container-id-1 div.sk-estimator:hover {background-color: #d4ebff;}#sk-container-id-1 div.sk-parallel-item::after {content: \"\";width: 100%;border-bottom: 1px solid gray;flex-grow: 1;}#sk-container-id-1 div.sk-label:hover label.sk-toggleable__label {background-color: #d4ebff;}#sk-container-id-1 div.sk-serial::before {content: \"\";position: absolute;border-left: 1px solid gray;box-sizing: border-box;top: 0;bottom: 0;left: 50%;z-index: 0;}#sk-container-id-1 div.sk-serial {display: flex;flex-direction: column;align-items: center;background-color: white;padding-right: 0.2em;padding-left: 0.2em;position: relative;}#sk-container-id-1 div.sk-item {position: relative;z-index: 1;}#sk-container-id-1 div.sk-parallel {display: flex;align-items: stretch;justify-content: center;background-color: white;position: relative;}#sk-container-id-1 div.sk-item::before, #sk-container-id-1 div.sk-parallel-item::before {content: \"\";position: absolute;border-left: 1px solid gray;box-sizing: border-box;top: 0;bottom: 0;left: 50%;z-index: -1;}#sk-container-id-1 div.sk-parallel-item {display: flex;flex-direction: column;z-index: 1;position: relative;background-color: white;}#sk-container-id-1 div.sk-parallel-item:first-child::after {align-self: flex-end;width: 50%;}#sk-container-id-1 div.sk-parallel-item:last-child::after {align-self: flex-start;width: 50%;}#sk-container-id-1 div.sk-parallel-item:only-child::after {width: 0;}#sk-container-id-1 div.sk-dashed-wrapped {border: 1px dashed gray;margin: 0 0.4em 0.5em 0.4em;box-sizing: border-box;padding-bottom: 0.4em;background-color: white;}#sk-container-id-1 div.sk-label label {font-family: monospace;font-weight: bold;display: inline-block;line-height: 1.2em;}#sk-container-id-1 div.sk-label-container {text-align: center;}#sk-container-id-1 div.sk-container {/* jupyter's `normalize.less` sets `[hidden] { display: none; }` but bootstrap.min.css set `[hidden] { display: none !important; }` so we also need the `!important` here to be able to override the default hidden behavior on the sphinx rendered scikit-learn.org. See: https://github.com/scikit-learn/scikit-learn/issues/21755 */display: inline-block !important;position: relative;}#sk-container-id-1 div.sk-text-repr-fallback {display: none;}</style><div id=\"sk-container-id-1\" class=\"sk-top-container\"><div class=\"sk-text-repr-fallback\"><pre>XGBRegressor(base_score=None, booster=None, callbacks=None,\n",
              "             colsample_bylevel=None, colsample_bynode=None,\n",
              "             colsample_bytree=None, device=None, early_stopping_rounds=None,\n",
              "             enable_categorical=False, eval_metric=None, feature_types=None,\n",
              "             gamma=None, grow_policy=None, importance_type=None,\n",
              "             interaction_constraints=None, learning_rate=None, max_bin=None,\n",
              "             max_cat_threshold=None, max_cat_to_onehot=None,\n",
              "             max_delta_step=None, max_depth=None, max_leaves=None,\n",
              "             min_child_weight=None, missing=nan, monotone_constraints=None,\n",
              "             multi_strategy=None, n_estimators=None, n_jobs=None,\n",
              "             num_parallel_tree=None, random_state=None, ...)</pre><b>In a Jupyter environment, please rerun this cell to show the HTML representation or trust the notebook. <br />On GitHub, the HTML representation is unable to render, please try loading this page with nbviewer.org.</b></div><div class=\"sk-container\" hidden><div class=\"sk-item\"><div class=\"sk-estimator sk-toggleable\"><input class=\"sk-toggleable__control sk-hidden--visually\" id=\"sk-estimator-id-1\" type=\"checkbox\" checked><label for=\"sk-estimator-id-1\" class=\"sk-toggleable__label sk-toggleable__label-arrow\">XGBRegressor</label><div class=\"sk-toggleable__content\"><pre>XGBRegressor(base_score=None, booster=None, callbacks=None,\n",
              "             colsample_bylevel=None, colsample_bynode=None,\n",
              "             colsample_bytree=None, device=None, early_stopping_rounds=None,\n",
              "             enable_categorical=False, eval_metric=None, feature_types=None,\n",
              "             gamma=None, grow_policy=None, importance_type=None,\n",
              "             interaction_constraints=None, learning_rate=None, max_bin=None,\n",
              "             max_cat_threshold=None, max_cat_to_onehot=None,\n",
              "             max_delta_step=None, max_depth=None, max_leaves=None,\n",
              "             min_child_weight=None, missing=nan, monotone_constraints=None,\n",
              "             multi_strategy=None, n_estimators=None, n_jobs=None,\n",
              "             num_parallel_tree=None, random_state=None, ...)</pre></div></div></div></div></div>"
            ]
          },
          "metadata": {},
          "execution_count": 53
        }
      ]
    },
    {
      "cell_type": "code",
      "source": [
        "y_pred = xgbr.predict(X_test)"
      ],
      "metadata": {
        "id": "jyiNBABilZik"
      },
      "execution_count": null,
      "outputs": []
    },
    {
      "cell_type": "code",
      "source": [
        "mean_absolute_error(y_test, y_pred)"
      ],
      "metadata": {
        "colab": {
          "base_uri": "https://localhost:8080/"
        },
        "id": "kd1LTmJAbhjV",
        "outputId": "b7a61539-a092-4bab-bf3e-1f764325c7de"
      },
      "execution_count": null,
      "outputs": [
        {
          "output_type": "execute_result",
          "data": {
            "text/plain": [
              "0.3251386417169678"
            ]
          },
          "metadata": {},
          "execution_count": 61
        }
      ]
    },
    {
      "cell_type": "markdown",
      "source": [
        "## Hyper-Parameter Tuning"
      ],
      "metadata": {
        "id": "KwwBQQXGn3gf"
      }
    },
    {
      "cell_type": "code",
      "source": [
        "%%time\n",
        "\n",
        "param_grid = {\n",
        "    'max_depth': [3, 5, 7],\n",
        "    'learning_rate': [0.1, 0.01, 0.001],\n",
        "    'subsample': [0.5, 0.7, 1],\n",
        "    'n_estimators': [50, 100, 150, 200],\n",
        "    'min_child_weight': [1,2,4,8],\n",
        "    'reg_alpha': [0,5,10],\n",
        "    }\n",
        "\n",
        "# Create the GridSearchCV object\n",
        "grid_search = GridSearchCV(xgbr, param_grid, cv=3, scoring='neg_mean_absolute_error')\n",
        "\n",
        "# Fit the GridSearchCV object to the training data\n",
        "grid_search.fit(X_train, y_train)"
      ],
      "metadata": {
        "colab": {
          "base_uri": "https://localhost:8080/"
        },
        "id": "pqp9N5CQn9Sv",
        "outputId": "3349e81b-ed2a-4dfc-860f-61a62888d1fa"
      },
      "execution_count": null,
      "outputs": [
        {
          "output_type": "stream",
          "name": "stdout",
          "text": [
            "CPU times: user 1h 8min 24s, sys: 21.4 s, total: 1h 8min 45s\n",
            "Wall time: 38min 26s\n"
          ]
        },
        {
          "output_type": "execute_result",
          "data": {
            "text/plain": [
              "GridSearchCV(cv=3,\n",
              "             estimator=XGBRegressor(base_score=None, booster=None,\n",
              "                                    callbacks=None, colsample_bylevel=None,\n",
              "                                    colsample_bynode=None,\n",
              "                                    colsample_bytree=None, device=None,\n",
              "                                    early_stopping_rounds=None,\n",
              "                                    enable_categorical=False, eval_metric=None,\n",
              "                                    feature_types=None, gamma=None,\n",
              "                                    grow_policy=None, importance_type=None,\n",
              "                                    interaction_constraints=None,\n",
              "                                    learning_rate=None, m...\n",
              "                                    min_child_weight=None, missing=nan,\n",
              "                                    monotone_constraints=None,\n",
              "                                    multi_strategy=None, n_estimators=None,\n",
              "                                    n_jobs=None, num_parallel_tree=None,\n",
              "                                    random_state=None, ...),\n",
              "             param_grid={'learning_rate': [0.1, 0.01, 0.001],\n",
              "                         'max_depth': [3, 5, 7],\n",
              "                         'min_child_weight': [1, 2, 4, 8],\n",
              "                         'n_estimators': [50, 100, 150, 200],\n",
              "                         'reg_alpha': [0, 5, 10], 'subsample': [0.5, 0.7, 1]},\n",
              "             scoring='neg_mean_absolute_error')"
            ],
            "text/html": [
              "<style>#sk-container-id-5 {color: black;background-color: white;}#sk-container-id-5 pre{padding: 0;}#sk-container-id-5 div.sk-toggleable {background-color: white;}#sk-container-id-5 label.sk-toggleable__label {cursor: pointer;display: block;width: 100%;margin-bottom: 0;padding: 0.3em;box-sizing: border-box;text-align: center;}#sk-container-id-5 label.sk-toggleable__label-arrow:before {content: \"▸\";float: left;margin-right: 0.25em;color: #696969;}#sk-container-id-5 label.sk-toggleable__label-arrow:hover:before {color: black;}#sk-container-id-5 div.sk-estimator:hover label.sk-toggleable__label-arrow:before {color: black;}#sk-container-id-5 div.sk-toggleable__content {max-height: 0;max-width: 0;overflow: hidden;text-align: left;background-color: #f0f8ff;}#sk-container-id-5 div.sk-toggleable__content pre {margin: 0.2em;color: black;border-radius: 0.25em;background-color: #f0f8ff;}#sk-container-id-5 input.sk-toggleable__control:checked~div.sk-toggleable__content {max-height: 200px;max-width: 100%;overflow: auto;}#sk-container-id-5 input.sk-toggleable__control:checked~label.sk-toggleable__label-arrow:before {content: \"▾\";}#sk-container-id-5 div.sk-estimator input.sk-toggleable__control:checked~label.sk-toggleable__label {background-color: #d4ebff;}#sk-container-id-5 div.sk-label input.sk-toggleable__control:checked~label.sk-toggleable__label {background-color: #d4ebff;}#sk-container-id-5 input.sk-hidden--visually {border: 0;clip: rect(1px 1px 1px 1px);clip: rect(1px, 1px, 1px, 1px);height: 1px;margin: -1px;overflow: hidden;padding: 0;position: absolute;width: 1px;}#sk-container-id-5 div.sk-estimator {font-family: monospace;background-color: #f0f8ff;border: 1px dotted black;border-radius: 0.25em;box-sizing: border-box;margin-bottom: 0.5em;}#sk-container-id-5 div.sk-estimator:hover {background-color: #d4ebff;}#sk-container-id-5 div.sk-parallel-item::after {content: \"\";width: 100%;border-bottom: 1px solid gray;flex-grow: 1;}#sk-container-id-5 div.sk-label:hover label.sk-toggleable__label {background-color: #d4ebff;}#sk-container-id-5 div.sk-serial::before {content: \"\";position: absolute;border-left: 1px solid gray;box-sizing: border-box;top: 0;bottom: 0;left: 50%;z-index: 0;}#sk-container-id-5 div.sk-serial {display: flex;flex-direction: column;align-items: center;background-color: white;padding-right: 0.2em;padding-left: 0.2em;position: relative;}#sk-container-id-5 div.sk-item {position: relative;z-index: 1;}#sk-container-id-5 div.sk-parallel {display: flex;align-items: stretch;justify-content: center;background-color: white;position: relative;}#sk-container-id-5 div.sk-item::before, #sk-container-id-5 div.sk-parallel-item::before {content: \"\";position: absolute;border-left: 1px solid gray;box-sizing: border-box;top: 0;bottom: 0;left: 50%;z-index: -1;}#sk-container-id-5 div.sk-parallel-item {display: flex;flex-direction: column;z-index: 1;position: relative;background-color: white;}#sk-container-id-5 div.sk-parallel-item:first-child::after {align-self: flex-end;width: 50%;}#sk-container-id-5 div.sk-parallel-item:last-child::after {align-self: flex-start;width: 50%;}#sk-container-id-5 div.sk-parallel-item:only-child::after {width: 0;}#sk-container-id-5 div.sk-dashed-wrapped {border: 1px dashed gray;margin: 0 0.4em 0.5em 0.4em;box-sizing: border-box;padding-bottom: 0.4em;background-color: white;}#sk-container-id-5 div.sk-label label {font-family: monospace;font-weight: bold;display: inline-block;line-height: 1.2em;}#sk-container-id-5 div.sk-label-container {text-align: center;}#sk-container-id-5 div.sk-container {/* jupyter's `normalize.less` sets `[hidden] { display: none; }` but bootstrap.min.css set `[hidden] { display: none !important; }` so we also need the `!important` here to be able to override the default hidden behavior on the sphinx rendered scikit-learn.org. See: https://github.com/scikit-learn/scikit-learn/issues/21755 */display: inline-block !important;position: relative;}#sk-container-id-5 div.sk-text-repr-fallback {display: none;}</style><div id=\"sk-container-id-5\" class=\"sk-top-container\"><div class=\"sk-text-repr-fallback\"><pre>GridSearchCV(cv=3,\n",
              "             estimator=XGBRegressor(base_score=None, booster=None,\n",
              "                                    callbacks=None, colsample_bylevel=None,\n",
              "                                    colsample_bynode=None,\n",
              "                                    colsample_bytree=None, device=None,\n",
              "                                    early_stopping_rounds=None,\n",
              "                                    enable_categorical=False, eval_metric=None,\n",
              "                                    feature_types=None, gamma=None,\n",
              "                                    grow_policy=None, importance_type=None,\n",
              "                                    interaction_constraints=None,\n",
              "                                    learning_rate=None, m...\n",
              "                                    min_child_weight=None, missing=nan,\n",
              "                                    monotone_constraints=None,\n",
              "                                    multi_strategy=None, n_estimators=None,\n",
              "                                    n_jobs=None, num_parallel_tree=None,\n",
              "                                    random_state=None, ...),\n",
              "             param_grid={&#x27;learning_rate&#x27;: [0.1, 0.01, 0.001],\n",
              "                         &#x27;max_depth&#x27;: [3, 5, 7],\n",
              "                         &#x27;min_child_weight&#x27;: [1, 2, 4, 8],\n",
              "                         &#x27;n_estimators&#x27;: [50, 100, 150, 200],\n",
              "                         &#x27;reg_alpha&#x27;: [0, 5, 10], &#x27;subsample&#x27;: [0.5, 0.7, 1]},\n",
              "             scoring=&#x27;neg_mean_absolute_error&#x27;)</pre><b>In a Jupyter environment, please rerun this cell to show the HTML representation or trust the notebook. <br />On GitHub, the HTML representation is unable to render, please try loading this page with nbviewer.org.</b></div><div class=\"sk-container\" hidden><div class=\"sk-item sk-dashed-wrapped\"><div class=\"sk-label-container\"><div class=\"sk-label sk-toggleable\"><input class=\"sk-toggleable__control sk-hidden--visually\" id=\"sk-estimator-id-7\" type=\"checkbox\" ><label for=\"sk-estimator-id-7\" class=\"sk-toggleable__label sk-toggleable__label-arrow\">GridSearchCV</label><div class=\"sk-toggleable__content\"><pre>GridSearchCV(cv=3,\n",
              "             estimator=XGBRegressor(base_score=None, booster=None,\n",
              "                                    callbacks=None, colsample_bylevel=None,\n",
              "                                    colsample_bynode=None,\n",
              "                                    colsample_bytree=None, device=None,\n",
              "                                    early_stopping_rounds=None,\n",
              "                                    enable_categorical=False, eval_metric=None,\n",
              "                                    feature_types=None, gamma=None,\n",
              "                                    grow_policy=None, importance_type=None,\n",
              "                                    interaction_constraints=None,\n",
              "                                    learning_rate=None, m...\n",
              "                                    min_child_weight=None, missing=nan,\n",
              "                                    monotone_constraints=None,\n",
              "                                    multi_strategy=None, n_estimators=None,\n",
              "                                    n_jobs=None, num_parallel_tree=None,\n",
              "                                    random_state=None, ...),\n",
              "             param_grid={&#x27;learning_rate&#x27;: [0.1, 0.01, 0.001],\n",
              "                         &#x27;max_depth&#x27;: [3, 5, 7],\n",
              "                         &#x27;min_child_weight&#x27;: [1, 2, 4, 8],\n",
              "                         &#x27;n_estimators&#x27;: [50, 100, 150, 200],\n",
              "                         &#x27;reg_alpha&#x27;: [0, 5, 10], &#x27;subsample&#x27;: [0.5, 0.7, 1]},\n",
              "             scoring=&#x27;neg_mean_absolute_error&#x27;)</pre></div></div></div><div class=\"sk-parallel\"><div class=\"sk-parallel-item\"><div class=\"sk-item\"><div class=\"sk-label-container\"><div class=\"sk-label sk-toggleable\"><input class=\"sk-toggleable__control sk-hidden--visually\" id=\"sk-estimator-id-8\" type=\"checkbox\" ><label for=\"sk-estimator-id-8\" class=\"sk-toggleable__label sk-toggleable__label-arrow\">estimator: XGBRegressor</label><div class=\"sk-toggleable__content\"><pre>XGBRegressor(base_score=None, booster=None, callbacks=None,\n",
              "             colsample_bylevel=None, colsample_bynode=None,\n",
              "             colsample_bytree=None, device=None, early_stopping_rounds=None,\n",
              "             enable_categorical=False, eval_metric=None, feature_types=None,\n",
              "             gamma=None, grow_policy=None, importance_type=None,\n",
              "             interaction_constraints=None, learning_rate=None, max_bin=None,\n",
              "             max_cat_threshold=None, max_cat_to_onehot=None,\n",
              "             max_delta_step=None, max_depth=None, max_leaves=None,\n",
              "             min_child_weight=None, missing=nan, monotone_constraints=None,\n",
              "             multi_strategy=None, n_estimators=None, n_jobs=None,\n",
              "             num_parallel_tree=None, random_state=None, ...)</pre></div></div></div><div class=\"sk-serial\"><div class=\"sk-item\"><div class=\"sk-estimator sk-toggleable\"><input class=\"sk-toggleable__control sk-hidden--visually\" id=\"sk-estimator-id-9\" type=\"checkbox\" ><label for=\"sk-estimator-id-9\" class=\"sk-toggleable__label sk-toggleable__label-arrow\">XGBRegressor</label><div class=\"sk-toggleable__content\"><pre>XGBRegressor(base_score=None, booster=None, callbacks=None,\n",
              "             colsample_bylevel=None, colsample_bynode=None,\n",
              "             colsample_bytree=None, device=None, early_stopping_rounds=None,\n",
              "             enable_categorical=False, eval_metric=None, feature_types=None,\n",
              "             gamma=None, grow_policy=None, importance_type=None,\n",
              "             interaction_constraints=None, learning_rate=None, max_bin=None,\n",
              "             max_cat_threshold=None, max_cat_to_onehot=None,\n",
              "             max_delta_step=None, max_depth=None, max_leaves=None,\n",
              "             min_child_weight=None, missing=nan, monotone_constraints=None,\n",
              "             multi_strategy=None, n_estimators=None, n_jobs=None,\n",
              "             num_parallel_tree=None, random_state=None, ...)</pre></div></div></div></div></div></div></div></div></div></div>"
            ]
          },
          "metadata": {},
          "execution_count": 75
        }
      ]
    },
    {
      "cell_type": "code",
      "source": [
        "y_pred = grid_search.predict(X_test)\n",
        "mean_absolute_error(y_test, y_pred)\n",
        "print(mean_absolute_error(y_test, y_pred))"
      ],
      "metadata": {
        "colab": {
          "base_uri": "https://localhost:8080/"
        },
        "id": "4rnqNgOyCE-3",
        "outputId": "e8bbb925-3584-4a74-b895-142565844a77"
      },
      "execution_count": null,
      "outputs": [
        {
          "output_type": "stream",
          "name": "stdout",
          "text": [
            "0.3163560903749734\n"
          ]
        }
      ]
    },
    {
      "cell_type": "code",
      "source": [
        "grid_search.best_params_"
      ],
      "metadata": {
        "colab": {
          "base_uri": "https://localhost:8080/"
        },
        "id": "XWrwJCd2FCm2",
        "outputId": "e94dc16a-fb73-4ddb-cc8c-aadc8bfb1652"
      },
      "execution_count": null,
      "outputs": [
        {
          "output_type": "execute_result",
          "data": {
            "text/plain": [
              "{'learning_rate': 0.1,\n",
              " 'max_depth': 7,\n",
              " 'min_child_weight': 2,\n",
              " 'n_estimators': 150,\n",
              " 'reg_alpha': 0,\n",
              " 'subsample': 0.7}"
            ]
          },
          "metadata": {},
          "execution_count": 77
        }
      ]
    },
    {
      "cell_type": "markdown",
      "source": [
        "## Exporting the best Model"
      ],
      "metadata": {
        "id": "Rnhhp0428Yp1"
      }
    },
    {
      "cell_type": "code",
      "source": [
        "final_model = xgb.XGBRegressor(learning_rate = 0.1,\n",
        " max_depth= 7,\n",
        " min_child_weight= 2,\n",
        " n_estimators= 150,\n",
        " reg_alpha= 0,\n",
        " subsample= 0.7)\n",
        "\n",
        "final_model.fit(X_train, y_train)"
      ],
      "metadata": {
        "id": "JbDygY8n8g2d",
        "colab": {
          "base_uri": "https://localhost:8080/",
          "height": 248
        },
        "outputId": "e85bfd5c-be3d-4d50-8935-990483a5d087"
      },
      "execution_count": null,
      "outputs": [
        {
          "output_type": "execute_result",
          "data": {
            "text/plain": [
              "XGBRegressor(base_score=None, booster=None, callbacks=None,\n",
              "             colsample_bylevel=None, colsample_bynode=None,\n",
              "             colsample_bytree=None, device=None, early_stopping_rounds=None,\n",
              "             enable_categorical=False, eval_metric=None, feature_types=None,\n",
              "             gamma=None, grow_policy=None, importance_type=None,\n",
              "             interaction_constraints=None, learning_rate=0.1, max_bin=None,\n",
              "             max_cat_threshold=None, max_cat_to_onehot=None,\n",
              "             max_delta_step=None, max_depth=7, max_leaves=None,\n",
              "             min_child_weight=2, missing=nan, monotone_constraints=None,\n",
              "             multi_strategy=None, n_estimators=150, n_jobs=None,\n",
              "             num_parallel_tree=None, random_state=None, ...)"
            ],
            "text/html": [
              "<style>#sk-container-id-3 {color: black;background-color: white;}#sk-container-id-3 pre{padding: 0;}#sk-container-id-3 div.sk-toggleable {background-color: white;}#sk-container-id-3 label.sk-toggleable__label {cursor: pointer;display: block;width: 100%;margin-bottom: 0;padding: 0.3em;box-sizing: border-box;text-align: center;}#sk-container-id-3 label.sk-toggleable__label-arrow:before {content: \"▸\";float: left;margin-right: 0.25em;color: #696969;}#sk-container-id-3 label.sk-toggleable__label-arrow:hover:before {color: black;}#sk-container-id-3 div.sk-estimator:hover label.sk-toggleable__label-arrow:before {color: black;}#sk-container-id-3 div.sk-toggleable__content {max-height: 0;max-width: 0;overflow: hidden;text-align: left;background-color: #f0f8ff;}#sk-container-id-3 div.sk-toggleable__content pre {margin: 0.2em;color: black;border-radius: 0.25em;background-color: #f0f8ff;}#sk-container-id-3 input.sk-toggleable__control:checked~div.sk-toggleable__content {max-height: 200px;max-width: 100%;overflow: auto;}#sk-container-id-3 input.sk-toggleable__control:checked~label.sk-toggleable__label-arrow:before {content: \"▾\";}#sk-container-id-3 div.sk-estimator input.sk-toggleable__control:checked~label.sk-toggleable__label {background-color: #d4ebff;}#sk-container-id-3 div.sk-label input.sk-toggleable__control:checked~label.sk-toggleable__label {background-color: #d4ebff;}#sk-container-id-3 input.sk-hidden--visually {border: 0;clip: rect(1px 1px 1px 1px);clip: rect(1px, 1px, 1px, 1px);height: 1px;margin: -1px;overflow: hidden;padding: 0;position: absolute;width: 1px;}#sk-container-id-3 div.sk-estimator {font-family: monospace;background-color: #f0f8ff;border: 1px dotted black;border-radius: 0.25em;box-sizing: border-box;margin-bottom: 0.5em;}#sk-container-id-3 div.sk-estimator:hover {background-color: #d4ebff;}#sk-container-id-3 div.sk-parallel-item::after {content: \"\";width: 100%;border-bottom: 1px solid gray;flex-grow: 1;}#sk-container-id-3 div.sk-label:hover label.sk-toggleable__label {background-color: #d4ebff;}#sk-container-id-3 div.sk-serial::before {content: \"\";position: absolute;border-left: 1px solid gray;box-sizing: border-box;top: 0;bottom: 0;left: 50%;z-index: 0;}#sk-container-id-3 div.sk-serial {display: flex;flex-direction: column;align-items: center;background-color: white;padding-right: 0.2em;padding-left: 0.2em;position: relative;}#sk-container-id-3 div.sk-item {position: relative;z-index: 1;}#sk-container-id-3 div.sk-parallel {display: flex;align-items: stretch;justify-content: center;background-color: white;position: relative;}#sk-container-id-3 div.sk-item::before, #sk-container-id-3 div.sk-parallel-item::before {content: \"\";position: absolute;border-left: 1px solid gray;box-sizing: border-box;top: 0;bottom: 0;left: 50%;z-index: -1;}#sk-container-id-3 div.sk-parallel-item {display: flex;flex-direction: column;z-index: 1;position: relative;background-color: white;}#sk-container-id-3 div.sk-parallel-item:first-child::after {align-self: flex-end;width: 50%;}#sk-container-id-3 div.sk-parallel-item:last-child::after {align-self: flex-start;width: 50%;}#sk-container-id-3 div.sk-parallel-item:only-child::after {width: 0;}#sk-container-id-3 div.sk-dashed-wrapped {border: 1px dashed gray;margin: 0 0.4em 0.5em 0.4em;box-sizing: border-box;padding-bottom: 0.4em;background-color: white;}#sk-container-id-3 div.sk-label label {font-family: monospace;font-weight: bold;display: inline-block;line-height: 1.2em;}#sk-container-id-3 div.sk-label-container {text-align: center;}#sk-container-id-3 div.sk-container {/* jupyter's `normalize.less` sets `[hidden] { display: none; }` but bootstrap.min.css set `[hidden] { display: none !important; }` so we also need the `!important` here to be able to override the default hidden behavior on the sphinx rendered scikit-learn.org. See: https://github.com/scikit-learn/scikit-learn/issues/21755 */display: inline-block !important;position: relative;}#sk-container-id-3 div.sk-text-repr-fallback {display: none;}</style><div id=\"sk-container-id-3\" class=\"sk-top-container\"><div class=\"sk-text-repr-fallback\"><pre>XGBRegressor(base_score=None, booster=None, callbacks=None,\n",
              "             colsample_bylevel=None, colsample_bynode=None,\n",
              "             colsample_bytree=None, device=None, early_stopping_rounds=None,\n",
              "             enable_categorical=False, eval_metric=None, feature_types=None,\n",
              "             gamma=None, grow_policy=None, importance_type=None,\n",
              "             interaction_constraints=None, learning_rate=0.1, max_bin=None,\n",
              "             max_cat_threshold=None, max_cat_to_onehot=None,\n",
              "             max_delta_step=None, max_depth=7, max_leaves=None,\n",
              "             min_child_weight=2, missing=nan, monotone_constraints=None,\n",
              "             multi_strategy=None, n_estimators=150, n_jobs=None,\n",
              "             num_parallel_tree=None, random_state=None, ...)</pre><b>In a Jupyter environment, please rerun this cell to show the HTML representation or trust the notebook. <br />On GitHub, the HTML representation is unable to render, please try loading this page with nbviewer.org.</b></div><div class=\"sk-container\" hidden><div class=\"sk-item\"><div class=\"sk-estimator sk-toggleable\"><input class=\"sk-toggleable__control sk-hidden--visually\" id=\"sk-estimator-id-3\" type=\"checkbox\" checked><label for=\"sk-estimator-id-3\" class=\"sk-toggleable__label sk-toggleable__label-arrow\">XGBRegressor</label><div class=\"sk-toggleable__content\"><pre>XGBRegressor(base_score=None, booster=None, callbacks=None,\n",
              "             colsample_bylevel=None, colsample_bynode=None,\n",
              "             colsample_bytree=None, device=None, early_stopping_rounds=None,\n",
              "             enable_categorical=False, eval_metric=None, feature_types=None,\n",
              "             gamma=None, grow_policy=None, importance_type=None,\n",
              "             interaction_constraints=None, learning_rate=0.1, max_bin=None,\n",
              "             max_cat_threshold=None, max_cat_to_onehot=None,\n",
              "             max_delta_step=None, max_depth=7, max_leaves=None,\n",
              "             min_child_weight=2, missing=nan, monotone_constraints=None,\n",
              "             multi_strategy=None, n_estimators=150, n_jobs=None,\n",
              "             num_parallel_tree=None, random_state=None, ...)</pre></div></div></div></div></div>"
            ]
          },
          "metadata": {},
          "execution_count": 88
        }
      ]
    },
    {
      "cell_type": "code",
      "source": [
        "joblib.dump(final_model, 'model.joblib')"
      ],
      "metadata": {
        "colab": {
          "base_uri": "https://localhost:8080/"
        },
        "id": "-3p9htPktvE0",
        "outputId": "504e2580-11a7-4fbb-917a-a5cc708e9108"
      },
      "execution_count": null,
      "outputs": [
        {
          "output_type": "execute_result",
          "data": {
            "text/plain": [
              "['model.joblib']"
            ]
          },
          "metadata": {},
          "execution_count": 60
        }
      ]
    },
    {
      "cell_type": "code",
      "source": [
        "error = y_pred - y_test"
      ],
      "metadata": {
        "id": "9LsHh7JwzRxD"
      },
      "execution_count": null,
      "outputs": []
    },
    {
      "cell_type": "markdown",
      "source": [
        "## Using this model to detect outlier.\n",
        "\n",
        "The average mean absolute error is 0.316, hence we will try to detect cases where the value he differnce is atleast 0.5."
      ],
      "metadata": {
        "id": "W-yI4IzwxQVU"
      }
    },
    {
      "cell_type": "code",
      "source": [
        "#Load in a new csv file for test purposes.\n",
        "#df = pd.read_csv('')\n",
        "#df = df.drop(['engineTransmission_comments_value_4', 'engineTransmission_clutch_cc_value_6', 'engineTransmission_clutch_cc_value_5', 'engineTransmission_coolant_cc_value_3', 'engineTransmission_engine_cc_value_10', 'engineTransmission_engine_cc_value_9', 'engineTransmission_engine_cc_value_8', 'engineTransmission_engine_cc_value_7' , 'engineTransmission_engineOil_cc_value_9' , 'engineTransmission_engineOil_cc_value_8', 'engineTransmission_battery_cc_value_3', 'engineTransmission_battery_cc_value_4','appointmentId','inspectionStartTime'],axis=1)"
      ],
      "metadata": {
        "id": "BfaGzAUFDonr"
      },
      "execution_count": null,
      "outputs": []
    },
    {
      "cell_type": "code",
      "source": [
        "X_input = df.iloc[:,0:-1]\n",
        "\n",
        "X_train, X_test, y_train, y_test = train_test_split(df.iloc[:,0:-1], df.iloc[:,-1], test_size=0.3, random_state=42)\n",
        "\n",
        "transformer = make_column_transformer(\n",
        "    (StandardScaler(), ['odometer_reading']),\n",
        "    (OneHotEncoder(), categorical_columns), remainder='passthrough')\n",
        "\n",
        "X_train = transformer.fit_transform(X_train)\n",
        "\n",
        "transformer_t = make_column_transformer(\n",
        "    (StandardScaler(), ['odometer_reading']),\n",
        "    (OneHotEncoder(), categorical_columns), remainder='passthrough')\n",
        "\n",
        "X_input = transformer_t.fit_transform(X_input)\n",
        "\n",
        "X_train, X_input, f_names = fixing_extra_cols(X_train, X_input)\n",
        "\n",
        "y_pred = final_model.predict(X_input)"
      ],
      "metadata": {
        "colab": {
          "base_uri": "https://localhost:8080/"
        },
        "id": "PvVaPZJyy2Ng",
        "outputId": "7b19a4d7-7582-4652-f811-4ac0d902fa5a"
      },
      "execution_count": null,
      "outputs": [
        {
          "output_type": "stream",
          "name": "stdout",
          "text": [
            "Sucessfully removed the extra columns in the Train and Test set\n",
            "Train data shape: (18414, 291) , Test data shape (26307, 291)\n"
          ]
        }
      ]
    },
    {
      "cell_type": "code",
      "source": [
        "df['Predicted_values'] = y_pred"
      ],
      "metadata": {
        "id": "ZXjdft-DIXLl"
      },
      "execution_count": null,
      "outputs": []
    },
    {
      "cell_type": "code",
      "source": [
        "data = df[abs(df['Predicted_values'] - df['rating_engineTransmission']) > 2.0]\n",
        "data.to_csv('outliers.csv', index=False)"
      ],
      "metadata": {
        "id": "IUE15xnsIv-T"
      },
      "execution_count": null,
      "outputs": []
    },
    {
      "cell_type": "code",
      "source": [
        "!pip freeze > requirements.txt"
      ],
      "metadata": {
        "id": "ZQL9ZMEUMB9J"
      },
      "execution_count": null,
      "outputs": []
    }
  ]
}